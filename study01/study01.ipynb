{
 "cells": [
  {
   "cell_type": "markdown",
   "metadata": {},
   "source": [
    "# A Study of Visual Preferences for Map Label Placements\n",
    "\n",
    "Below is an overview of the data collected from a recent study of visual preferences for map displays. It examines what type of label positions people prefer, and also investigates their decision-making when choosing between map displays that are similarly or equally preferred. This study serves as a first step toward understanding preferences in map displays.\n",
    "\n",
    "478 college students were asked a series of questions about their map preferences. All participants self-reported that they had vision that was normal or corrected to normal, and 3 participants stated that they were colorblind. Participants were asked how often they use maps in their daily life (9.4\\% rarely/never, 35.3\\% a few times per month, 40.0\\% a few times per week, and 15.3\\% daily). They were also asked which digital map applications they have experience with (Google Maps – 83.5\\%, Apple Maps – 76.8\\%, Waze – 63.6\\%, Map My Run – 7.8\\%, MapQuest – 4.8\\%, Strava – 2.9\\%, All Trails – 2.5\\%, Other – 3.1\\%)."
   ]
  },
  {
   "cell_type": "code",
   "execution_count": 39,
   "metadata": {},
   "outputs": [],
   "source": [
    "import pandas as pd\n",
    "import numpy as np\n",
    "from scipy.stats import ttest_ind\n",
    "import matplotlib.pyplot as plt\n",
    "\n",
    "part01_path = 'data/part01-pref_survey_responses-2022-04-05-anonymous.csv'\n",
    "part02_path = 'data/part02-tradeoff_survey_responses-2022-04-05-anonymous.csv'\n",
    "part03_path = 'data/part03-mlba_responses-2022-04-05-anonymous.csv'\n",
    "weights_path = 'data/weight-distribution-run77.csv'\n",
    "\n",
    "part01_all = pd.read_csv(part01_path)\n",
    "part02_all = pd.read_csv(part02_path)\n",
    "part03_all = pd.read_csv(part03_path)\n",
    "weights = pd.read_csv(weights_path)"
   ]
  },
  {
   "cell_type": "markdown",
   "metadata": {},
   "source": [
    "### Attentive Participants\n",
    "\n",
    "After completing the introductory questions, the participants completed 3 survey blocks totaling 52 questions. Part III of the study included eight questions with one correct answer. If the instructions were understood and the participant was paying attention, they should consistently get these questions correct. In the results and analysis below, we removed inattentive participants who did not get at least 6 of the 8 questions correct, leaving 292 participants. "
   ]
  },
  {
   "cell_type": "code",
   "execution_count": 40,
   "metadata": {},
   "outputs": [
    {
     "data": {
      "text/plain": [
       "'There were 292 attentive participants'"
      ]
     },
     "execution_count": 40,
     "metadata": {},
     "output_type": "execute_result"
    }
   ],
   "source": [
    "def check_responses(x,correct_responses,threshold):\n",
    "    correct_count = 0\n",
    "\n",
    "    for col in x.index:\n",
    "        if x[col] == correct_responses[col]:\n",
    "            correct_count += 1\n",
    "\n",
    "    if correct_count >= threshold:\n",
    "        return True\n",
    "\n",
    "    return False\n",
    "\n",
    "# attention question columns and the correct responses\n",
    "correct_responses = {'radial1:topleft-medium,left-far,bottomleft-close':4,'radial1:topleft-far,left-close,bottomleft-medium':4,\n",
    "                     'radial2:topleft-medium,left-far,bottomleft-close':4,'radial2:topleft-far,left-close,bottomleft-medium':4,\n",
    "                     'grid1:topleft-medium,left-far,bottomleft-close':4,'grid1:topleft-far,left-close,bottomleft-medium':4,\n",
    "                     'grid2:topleft-medium,left-far,bottomleft-close':4,'grid2:topleft-far,left-close,bottomleft-medium':4}\n",
    "\n",
    "attention_questions = part03_all[correct_responses.keys()]\n",
    "attentive = attention_questions.apply(lambda x: check_responses(x,correct_responses,threshold=6), axis=1)\n",
    "\n",
    "attentive_ids = attention_questions[attentive == True].index\n",
    "inattentive_ids = attention_questions[attentive == False].index\n",
    "\n",
    "# create dataframes of attentive participants only\n",
    "part01_attentive = part01_all.filter(items=attentive_ids,axis=0)\n",
    "part02_attentive = part02_all.filter(items=attentive_ids,axis=0)\n",
    "part03_attentive = part03_all.filter(items=attentive_ids,axis=0)\n",
    "\n",
    "'There were {0} attentive participants'.format(len(attentive_ids))"
   ]
  },
  {
   "cell_type": "markdown",
   "metadata": {},
   "source": [
    "## Part I\n",
    "\n",
    "### Design\n",
    "Part I of the survey was designed to answer whether users show consistent preferences regarding two attributes of the label: alignment and distance. Participants were presented with a series of binary choice questions in which they were asked to choose the map that they thought was more useful or easy to use in real world scenarios. Each binary choice involved two maps where the labels differed in alignment or distance, but not both. The participants responded to choices between every possible combination of two alignment conditions, chosen from \\{top left, direct left, bottom left\\} and every combination of two distance conditions chosen from \\{close, medium, far\\}. When the alignment conditions were compared, the distance of the labels remained fixed in the medium position. When the distance conditions were compared, the alignment of the labels remained fixed at the top left position. Two backgrounds were used to test whether people’s preferences changed when the streets on the map were in a grid pattern compared to a more complicated radial pattern. This resulted in 12 total questions in Part I. In addition to choosing their preferred map, participants were asked to describe the strength of their preference by dragging a marker along a slider with a range of [0,100]. \n",
    "\n",
    "<img src=\"examplemaps.png\" height=\"300\" />\n",
    "\n",
    "### Results\n",
    "When analyzing the results from Part I, we compared the distribution of responses from both of the map backgrounds (grid and radial) to see if there were statistical differences in people's preferences between the two maps. We did not find statistical differences in the responses between the groups. Therefore, we combined these groups into one for the remainder of the analysis. This resulted in 584 responses for each comparison (2 per participant)."
   ]
  },
  {
   "cell_type": "code",
   "execution_count": 57,
   "metadata": {},
   "outputs": [
    {
     "name": "stdout",
     "output_type": "stream",
     "text": [
      "No statistical difference found (p=0.12441958630055167)\n"
     ]
    }
   ],
   "source": [
    "# Part I analysis\n",
    "\n",
    "# Separate grid from radial responses\n",
    "radial_responses = part01_attentive[[col for col in part01_attentive.columns if 'pref' not in col and 'radial' in col]]\n",
    "grid_responses = part01_attentive[[col for col in part01_attentive.columns if 'pref' not in col and 'grid' in col]]\n",
    "\n",
    "radial_vals = []\n",
    "grid_vals = []\n",
    "\n",
    "for radial_col in radial_responses.columns:\n",
    "    col_parts = radial_col.split(':')\n",
    "    grid_col = 'grid:' + col_parts[1] + ':' + col_parts[2]\n",
    "    if len(radial_vals) == 0:\n",
    "        radial_vals = radial_responses[radial_col].values\n",
    "        grid_vals = grid_responses[grid_col].values\n",
    "    else:\n",
    "        radial_vals = np.concatenate((radial_vals,radial_responses[radial_col].values),axis=0)\n",
    "        grid_vals = np.concatenate((grid_vals, grid_responses[grid_col].values),axis=0)\n",
    "        \n",
    "# Statistically difference between radial and grid?\n",
    "pval = ttest_ind(radial_vals,grid_vals)[1]\n",
    "\n",
    "if pval > 0.005:\n",
    "    print('No statistical difference found (p={0})'.format(pval))\n",
    "else:\n",
    "    print('Statistical difference found (p={0})'.format(pval))"
   ]
  },
  {
   "cell_type": "code",
   "execution_count": 58,
   "metadata": {},
   "outputs": [
    {
     "name": "stdout",
     "output_type": "stream",
     "text": [
      "Combined radial and grid groups results in 584 total responses (2 per participant)\n"
     ]
    },
    {
     "data": {
      "text/html": [
       "<div>\n",
       "<style scoped>\n",
       "    .dataframe tbody tr th:only-of-type {\n",
       "        vertical-align: middle;\n",
       "    }\n",
       "\n",
       "    .dataframe tbody tr th {\n",
       "        vertical-align: top;\n",
       "    }\n",
       "\n",
       "    .dataframe thead th {\n",
       "        text-align: right;\n",
       "    }\n",
       "</style>\n",
       "<table border=\"1\" class=\"dataframe\">\n",
       "  <thead>\n",
       "    <tr style=\"text-align: right;\">\n",
       "      <th></th>\n",
       "      <th>participant_id</th>\n",
       "      <th>topleft-bottomleft</th>\n",
       "      <th>bottomleft-left</th>\n",
       "      <th>topleft-left</th>\n",
       "      <th>close-med</th>\n",
       "      <th>med-far</th>\n",
       "      <th>close-far</th>\n",
       "    </tr>\n",
       "  </thead>\n",
       "  <tbody>\n",
       "    <tr>\n",
       "      <th>1</th>\n",
       "      <td>3</td>\n",
       "      <td>2</td>\n",
       "      <td>1</td>\n",
       "      <td>2</td>\n",
       "      <td>1</td>\n",
       "      <td>1</td>\n",
       "      <td>1</td>\n",
       "    </tr>\n",
       "    <tr>\n",
       "      <th>293</th>\n",
       "      <td>3</td>\n",
       "      <td>1</td>\n",
       "      <td>1</td>\n",
       "      <td>2</td>\n",
       "      <td>1</td>\n",
       "      <td>1</td>\n",
       "      <td>1</td>\n",
       "    </tr>\n",
       "  </tbody>\n",
       "</table>\n",
       "</div>"
      ],
      "text/plain": [
       "     participant_id  topleft-bottomleft  bottomleft-left  topleft-left  \\\n",
       "1                 3                   2                1             2   \n",
       "293               3                   1                1             2   \n",
       "\n",
       "     close-med  med-far  close-far  \n",
       "1            1        1          1  \n",
       "293          1        1          1  "
      ]
     },
     "execution_count": 58,
     "metadata": {},
     "output_type": "execute_result"
    }
   ],
   "source": [
    "# rename columns to be the same for both sets\n",
    "new_radial_columns = {col:col.split(':')[2] for col in radial_responses.columns}\n",
    "new_grid_columns = {col:col.split(':')[2] for col in grid_responses.columns}\n",
    "radial_renamed = radial_responses.rename(columns = new_radial_columns)\n",
    "grid_renamed = grid_responses.rename(columns = new_grid_columns)\n",
    "\n",
    "# combine columns\n",
    "pref_responses = pd.concat([radial_renamed,grid_renamed]).reset_index().rename(columns = {'index':'participant_id'})\n",
    "\n",
    "print('Combined radial and grid groups results in {0} total responses (2 per participant)'.format(len(pref_responses)))\n",
    "pref_responses[pref_responses['participant_id'] == 3]"
   ]
  },
  {
   "cell_type": "markdown",
   "metadata": {},
   "source": [
    "### Part I Analysis\n",
    "\n",
    "**Alignment Preferences**\n",
    "\n",
    "When analyzing alignment preferences, we found that the direct left position (66.4\\%) was preferred to the bottom left (33.6\\%), with a mean preference strength of 50.1 (sd=29.7). Direct left (54.6\\%) was also slightly preferred to the top left position (45.4\\%), with a mean preference strength of 50.9 (sd=28.8).  Finally, the top left position (62.3\\%) was preferred to the bottom left position (37.7\\%). The mean preference strength was 49.7 (sd=29.2). "
   ]
  },
  {
   "cell_type": "code",
   "execution_count": 59,
   "metadata": {},
   "outputs": [
    {
     "name": "stdout",
     "output_type": "stream",
     "text": [
      "topleft       0.623288\n",
      "bottomleft    0.376712\n",
      "Name: topleft-bottomleft, dtype: float64\n",
      "Mean preference strength:49.70\n",
      "\n",
      "left          0.664384\n",
      "bottomleft    0.335616\n",
      "Name: bottomleft-left, dtype: float64\n",
      "Mean preference strength:50.80\n",
      "\n",
      "left       0.546233\n",
      "topleft    0.453767\n",
      "Name: topleft-left, dtype: float64\n",
      "Mean preference strength:50.85\n",
      "\n"
     ]
    }
   ],
   "source": [
    "# combine the grid and radial pref strength sets as well\n",
    "radial_pref_str_cols = part01_attentive[[col for col in part01_attentive.columns if 'pref:radial' in col]]\n",
    "grid_pref_str_cols = part01_attentive[[col for col in part01_attentive.columns if 'pref:grid' in col]]\n",
    "\n",
    "new_radial_pref_str_columns = {col:'pref:' + col.split(':')[3] for col in radial_pref_str_cols.columns}\n",
    "new_grid_pref_str_columns = {col:'pref:' + col.split(':')[3] for col in grid_pref_str_cols.columns}\n",
    "\n",
    "radial_pref_str_renamed = radial_pref_str_cols.rename(columns = new_radial_pref_str_columns)\n",
    "grid_pref_str_renamed = grid_pref_str_cols.rename(columns = new_grid_pref_str_columns)\n",
    "\n",
    "# combine columns\n",
    "pref_strengths = pd.concat([radial_pref_str_renamed,grid_pref_str_renamed]).reset_index().rename(columns = {'index':'participant_id'})\n",
    "\n",
    "# Calculate percentage of responses for each option in each question\n",
    "\n",
    "# Consider alignment preferences \n",
    "for col in ['topleft-bottomleft','bottomleft-left','topleft-left']:\n",
    "    if col != 'participant_id':\n",
    "        choices = col.split('-')\n",
    "\n",
    "        # replace numbers with text\n",
    "        text_responses = pref_responses[col].replace({i+1:choices[i] for i in range(len(choices))})\n",
    "\n",
    "        #print(pref_responses[col].value_counts())\n",
    "        print(text_responses.value_counts(normalize=True))\n",
    "        print('Mean preference strength:{:.2f}'.format(pref_strengths['pref:' + col].mean()))\n",
    "        print()"
   ]
  },
  {
   "cell_type": "markdown",
   "metadata": {},
   "source": [
    "**Distance Preferences**\n",
    "\n",
    "When analyzing distance preferences, we found that medium positions (79.3\\%) were preferred to close positions (20.7\\%), with a mean preference strength of 51.1 and a standard deviation of 28.8. Far distances (73.5\\%) was also preferred to close (26.5\\%), with a mean preference strength of 49.2 and a standard deviation of 29.2. Medium distance positions (67.8\\%) were preferred to the far positions (32.2\\%) with a mean preference strength of 44.2 (sd=30.4). "
   ]
  },
  {
   "cell_type": "code",
   "execution_count": 21,
   "metadata": {},
   "outputs": [
    {
     "name": "stdout",
     "output_type": "stream",
     "text": [
      "med      0.792808\n",
      "close    0.207192\n",
      "Name: close-med, dtype: float64\n",
      "Mean preference strength:51.07\n",
      "\n",
      "med    0.678082\n",
      "far    0.321918\n",
      "Name: med-far, dtype: float64\n",
      "Mean preference strength:44.21\n",
      "\n",
      "far      0.734589\n",
      "close    0.265411\n",
      "Name: close-far, dtype: float64\n",
      "Mean preference strength:49.22\n",
      "\n"
     ]
    }
   ],
   "source": [
    "# Consider distance preferences \n",
    "for col in ['close-med','med-far','close-far']:\n",
    "    if col != 'participant_id':\n",
    "        choices = col.split('-')\n",
    "\n",
    "        # replace numbers with text\n",
    "        text_responses = pref_responses[col].replace({i+1:choices[i] for i in range(len(choices))})\n",
    "\n",
    "        #print(pref_responses[col].value_counts())\n",
    "        print(text_responses.value_counts(normalize=True))\n",
    "        print('Mean preference strength:{:.2f}'.format(pref_strengths['pref:' + col].mean()))\n",
    "        print()"
   ]
  },
  {
   "cell_type": "markdown",
   "metadata": {},
   "source": [
    "## Part II\n",
    "\n",
    "### Design\n",
    "\n",
    "Part II considers how user preferences across multiple dimensions may be combined when choosing an overall preferred label position. However, instead of choosing between positions that differ in a single attribute, participants were asked to rank three positions that differ in both distance and alignment. We considered two sets of three maps on four different backgrounds (2 with streets in a grid pattern and 2 in a radial pattern). This resulted in a total of 12 questions. \n",
    "\n",
    "### Results\n",
    "\n",
    "The two label sets described in the methodology above were shown on four different map backgrounds. We compared the distribution of responses for each background map group and found no statistical differences between them. Therefore, we combined the four groups into one, resulting in 1168 responses for each trade-off set (4 per participant). "
   ]
  },
  {
   "cell_type": "code",
   "execution_count": 22,
   "metadata": {},
   "outputs": [
    {
     "name": "stdout",
     "output_type": "stream",
     "text": [
      "No statistical differences found\n"
     ]
    }
   ],
   "source": [
    "# Part II analysis\n",
    "\n",
    "# compare map groups for significance in each question and rank\n",
    "ranks = ['rank1','rank2','rank3']\n",
    "maps = ['radial1','radial2','grid1','grid2']\n",
    "found = False\n",
    "\n",
    "# calculate p values for every combination of map and rank\n",
    "for r in ranks:\n",
    "    for m1 in maps:\n",
    "        for m2 in maps:\n",
    "            maptype1_vals = []\n",
    "            maptype2_vals = []\n",
    "\n",
    "            if m1 != m2:\n",
    "                maptype1_responses = part02_attentive.filter(like='{0}:{1}:'.format(r,m1))\n",
    "                maptype2_responses = part02_attentive.filter(like='{0}:{1}:'.format(r,m2))\n",
    "\n",
    "                for maptype1_col in maptype1_responses.columns:\n",
    "                    col_parts = maptype1_col.split(':')\n",
    "                    maptype2_col = '{0}:{1}:{2}'.format(col_parts[0],m2,col_parts[2])\n",
    "\n",
    "                    # concatenate values\n",
    "                \n",
    "                    maptype1_vals = maptype1_vals + list(maptype1_responses[maptype1_col].values)\n",
    "                    maptype2_vals = maptype2_vals + list(maptype2_responses[maptype2_col].values)\n",
    "\n",
    "                pval = ttest_ind(maptype1_vals,maptype2_vals)[1]\n",
    "\n",
    "                if pval <= 0.005:\n",
    "                    print('{0}:{1} vs {0}:{2} - Statistical difference found (p={3})'.format(r,m1,m2,pval))\n",
    "                    found = True\n",
    "\n",
    "if not found:\n",
    "    print('No statistical differences found')    \n"
   ]
  },
  {
   "cell_type": "code",
   "execution_count": 23,
   "metadata": {},
   "outputs": [
    {
     "name": "stdout",
     "output_type": "stream",
     "text": [
      "Combined radial and grid groups results in 1168 total responses (4 per participant)\n"
     ]
    },
    {
     "data": {
      "text/html": [
       "<div>\n",
       "<style scoped>\n",
       "    .dataframe tbody tr th:only-of-type {\n",
       "        vertical-align: middle;\n",
       "    }\n",
       "\n",
       "    .dataframe tbody tr th {\n",
       "        vertical-align: top;\n",
       "    }\n",
       "\n",
       "    .dataframe thead th {\n",
       "        text-align: right;\n",
       "    }\n",
       "</style>\n",
       "<table border=\"1\" class=\"dataframe\">\n",
       "  <thead>\n",
       "    <tr style=\"text-align: right;\">\n",
       "      <th></th>\n",
       "      <th>participant_id</th>\n",
       "      <th>rank1:topleft-medium,left-far,bottomleft-close</th>\n",
       "      <th>rank2:topleft-medium,left-far,bottomleft-close</th>\n",
       "      <th>rank3:topleft-medium,left-far,bottomleft-close</th>\n",
       "      <th>rank1:topleft-far,left-close,bottomleft-medium</th>\n",
       "      <th>rank2:topleft-far,left-close,bottomleft-medium</th>\n",
       "      <th>rank3:topleft-far,left-close,bottomleft-medium</th>\n",
       "    </tr>\n",
       "  </thead>\n",
       "  <tbody>\n",
       "    <tr>\n",
       "      <th>1</th>\n",
       "      <td>3</td>\n",
       "      <td>3</td>\n",
       "      <td>2</td>\n",
       "      <td>1</td>\n",
       "      <td>3</td>\n",
       "      <td>2</td>\n",
       "      <td>1</td>\n",
       "    </tr>\n",
       "    <tr>\n",
       "      <th>293</th>\n",
       "      <td>3</td>\n",
       "      <td>3</td>\n",
       "      <td>1</td>\n",
       "      <td>2</td>\n",
       "      <td>3</td>\n",
       "      <td>1</td>\n",
       "      <td>2</td>\n",
       "    </tr>\n",
       "    <tr>\n",
       "      <th>585</th>\n",
       "      <td>3</td>\n",
       "      <td>3</td>\n",
       "      <td>1</td>\n",
       "      <td>2</td>\n",
       "      <td>2</td>\n",
       "      <td>3</td>\n",
       "      <td>1</td>\n",
       "    </tr>\n",
       "    <tr>\n",
       "      <th>877</th>\n",
       "      <td>3</td>\n",
       "      <td>3</td>\n",
       "      <td>1</td>\n",
       "      <td>2</td>\n",
       "      <td>2</td>\n",
       "      <td>3</td>\n",
       "      <td>1</td>\n",
       "    </tr>\n",
       "  </tbody>\n",
       "</table>\n",
       "</div>"
      ],
      "text/plain": [
       "     participant_id  rank1:topleft-medium,left-far,bottomleft-close  \\\n",
       "1                 3                                               3   \n",
       "293               3                                               3   \n",
       "585               3                                               3   \n",
       "877               3                                               3   \n",
       "\n",
       "     rank2:topleft-medium,left-far,bottomleft-close  \\\n",
       "1                                                 2   \n",
       "293                                               1   \n",
       "585                                               1   \n",
       "877                                               1   \n",
       "\n",
       "     rank3:topleft-medium,left-far,bottomleft-close  \\\n",
       "1                                                 1   \n",
       "293                                               2   \n",
       "585                                               2   \n",
       "877                                               2   \n",
       "\n",
       "     rank1:topleft-far,left-close,bottomleft-medium  \\\n",
       "1                                                 3   \n",
       "293                                               3   \n",
       "585                                               2   \n",
       "877                                               2   \n",
       "\n",
       "     rank2:topleft-far,left-close,bottomleft-medium  \\\n",
       "1                                                 2   \n",
       "293                                               1   \n",
       "585                                               3   \n",
       "877                                               3   \n",
       "\n",
       "     rank3:topleft-far,left-close,bottomleft-medium  \n",
       "1                                                 1  \n",
       "293                                               2  \n",
       "585                                               1  \n",
       "877                                               1  "
      ]
     },
     "execution_count": 23,
     "metadata": {},
     "output_type": "execute_result"
    }
   ],
   "source": [
    "# Combine map groups into 1 (4 responses per participant per question)\n",
    "\n",
    "maps = ['radial1','radial2','grid1','grid2']\n",
    "tradeoff_responses = pd.DataFrame()\n",
    "\n",
    "# rename columns to be the same for both sets\n",
    "for m in maps:\n",
    "    map_responses = part02_attentive.filter(like=m)\n",
    "\n",
    "    new_columns = {col:str(col.split(':')[0] + ':' + col.split(':')[2]) for col in map_responses.columns}\n",
    "    \n",
    "    response_cols_renamed = map_responses.rename(columns = new_columns)\n",
    "\n",
    "    # combine columns\n",
    "    tradeoff_responses = pd.concat([tradeoff_responses,response_cols_renamed])\n",
    "\n",
    "tradeoff_responses = tradeoff_responses.reset_index().rename(columns = {'index':'participant_id'})\n",
    "print('Combined radial and grid groups results in {0} total responses (4 per participant)'.format(len(tradeoff_responses)))\n",
    "tradeoff_responses[tradeoff_responses['participant_id'] == 3]\n"
   ]
  },
  {
   "cell_type": "markdown",
   "metadata": {},
   "source": [
    "### Part II Analysis\n",
    "\n",
    "When considering Label Set 1 (see Figure \\ref{fig:label1setranking}), we note that participants ranked (top left, medium) more often in first place (73.4\\%), while (bottom left, close) is more often ranked in last place (61.7\\%). In Label Set 2 (see Figure \\ref{fig:label1setranking}), we see that there is a clear preference for ranking (top left, far) first (64.2\\%), (direct left, close) second, and (bottom left, medium) third (63.1\\%). "
   ]
  },
  {
   "cell_type": "code",
   "execution_count": 24,
   "metadata": {},
   "outputs": [
    {
     "data": {
      "text/plain": [
       "topleft-medium      0.733733\n",
       "left-far            0.155822\n",
       "bottomleft-close    0.110445\n",
       "Name: rank1:topleft-medium,left-far,bottomleft-close, dtype: float64"
      ]
     },
     "execution_count": 24,
     "metadata": {},
     "output_type": "execute_result"
    }
   ],
   "source": [
    "tradeoff_responses['rank1:topleft-medium,left-far,bottomleft-close'].replace({1:'topleft-medium',2:'left-far',3:'bottomleft-close'}).value_counts(normalize=True)"
   ]
  },
  {
   "cell_type": "code",
   "execution_count": 25,
   "metadata": {},
   "outputs": [
    {
     "data": {
      "text/plain": [
       "left-far            0.579623\n",
       "bottomleft-close    0.272260\n",
       "topleft-medium      0.148116\n",
       "Name: rank2:topleft-medium,left-far,bottomleft-close, dtype: float64"
      ]
     },
     "execution_count": 25,
     "metadata": {},
     "output_type": "execute_result"
    }
   ],
   "source": [
    "tradeoff_responses['rank2:topleft-medium,left-far,bottomleft-close'].replace({1:'topleft-medium',2:'left-far',3:'bottomleft-close'}).value_counts(normalize=True)"
   ]
  },
  {
   "cell_type": "code",
   "execution_count": 26,
   "metadata": {},
   "outputs": [
    {
     "data": {
      "text/plain": [
       "bottomleft-close    0.617295\n",
       "left-far            0.264555\n",
       "topleft-medium      0.118151\n",
       "Name: rank3:topleft-medium,left-far,bottomleft-close, dtype: float64"
      ]
     },
     "execution_count": 26,
     "metadata": {},
     "output_type": "execute_result"
    }
   ],
   "source": [
    "tradeoff_responses['rank3:topleft-medium,left-far,bottomleft-close'].replace({1:'topleft-medium',2:'left-far',3:'bottomleft-close'}).value_counts(normalize=True)"
   ]
  },
  {
   "cell_type": "code",
   "execution_count": 27,
   "metadata": {},
   "outputs": [
    {
     "data": {
      "text/plain": [
       "topleft-far          0.642979\n",
       "left-close           0.220890\n",
       "bottomleft-medium    0.136130\n",
       "Name: rank1:topleft-far,left-close,bottomleft-medium, dtype: float64"
      ]
     },
     "execution_count": 27,
     "metadata": {},
     "output_type": "execute_result"
    }
   ],
   "source": [
    "tradeoff_responses['rank1:topleft-far,left-close,bottomleft-medium'].replace({1:'topleft-far',2:'left-close',3:'bottomleft-medium'}).value_counts(normalize=True)"
   ]
  },
  {
   "cell_type": "code",
   "execution_count": 28,
   "metadata": {},
   "outputs": [
    {
     "data": {
      "text/plain": [
       "left-close           0.535103\n",
       "bottomleft-medium    0.232877\n",
       "topleft-far          0.232021\n",
       "Name: rank2:topleft-far,left-close,bottomleft-medium, dtype: float64"
      ]
     },
     "execution_count": 28,
     "metadata": {},
     "output_type": "execute_result"
    }
   ],
   "source": [
    "tradeoff_responses['rank2:topleft-far,left-close,bottomleft-medium'].replace({1:'topleft-far',2:'left-close',3:'bottomleft-medium'}).value_counts(normalize=True)"
   ]
  },
  {
   "cell_type": "code",
   "execution_count": 29,
   "metadata": {},
   "outputs": [
    {
     "data": {
      "text/plain": [
       "bottomleft-medium    0.630993\n",
       "left-close           0.244007\n",
       "topleft-far          0.125000\n",
       "Name: rank3:topleft-far,left-close,bottomleft-medium, dtype: float64"
      ]
     },
     "execution_count": 29,
     "metadata": {},
     "output_type": "execute_result"
    }
   ],
   "source": [
    "tradeoff_responses['rank3:topleft-far,left-close,bottomleft-medium'].replace({1:'topleft-far',2:'left-close',3:'bottomleft-medium'}).value_counts(normalize=True)"
   ]
  },
  {
   "cell_type": "markdown",
   "metadata": {},
   "source": [
    "### Part II Discussion\n",
    "\n",
    "Most of the participants appeared to prioritize alignment over distance information in both scenario. A visualization of the options that the participants ranked first in Label Set 1 and Label Set 2 can be seen in the Sankey diagram below. As a group, most of the participants (Label Set 1: 73.4\\%, Label Set 2: 64.2\\%) ranked the labels placed at the (top left, medium) position. 78.2\\% of those who chose the top left label in Label Set 1, chose the (top left, far) label position in Label Set 2.\n",
    "\n",
    "<img src=\"sankey-diagram-tradeoffs.png\" width=\"400\">\n",
    "\n",
    "If participants had prioritized distance information, then (top left, far) would not have been so strongly preferred in Label Set 2, compared to the small number of responses (39.6\\%) that ranked (direct left, far) in Label Set 1. In fact, of\n",
    "the participants who chose (direct left, far) in Label Set 1, the largest proportion (39.6\\%) continued to prefer left aligned labels (direct left, close) in Label Set 2.\n",
    "\n",
    "Although most of the participants appeared to focus on the alignment of labels, there was a minority who appeared to take distance information into account. Of those who chose the position (top left, medium) in Label Set 1, 16.9\\% shifted their decision to (direct left, close) and 4.9\\% shifted to (bottom left, medium) in Label Set 2. This is in line with the distance preferences we observed in Part I, with people preferring closer labels to those farther away.\n",
    "\n",
    "When comparing these results with those found in Part I, we found some similarities. In Part I, we found that people generally preferred bottom left positions the least, and this was also seen in Part II. In fact, when considering (bottom left, medium) in Label Set 2, we found that people's preference for medium positions in Part I seems to be overpowered by their preference against the bottom left position. With that exception, we found that people preferred the medium and far placed positions to close positions, as we also found in Part I."
   ]
  },
  {
   "cell_type": "code",
   "execution_count": 30,
   "metadata": {},
   "outputs": [
    {
     "name": "stdout",
     "output_type": "stream",
     "text": [
      "topleft-medium\t[670]\ttopleft-far\n",
      "topleft-medium\t[145]\tleft-close\n",
      "left-far\t[73]\tleft-close\n",
      "bottomleft-close\t[72]\tbottomleft-medium\n",
      "left-far\t[64]\ttopleft-far\n",
      "left-far\t[45]\tbottomleft-medium\n",
      "topleft-medium\t[42]\tbottomleft-medium\n",
      "bottomleft-close\t[40]\tleft-close\n",
      "bottomleft-close\t[17]\ttopleft-far\n"
     ]
    }
   ],
   "source": [
    "# Generate text for Sankey diagram (to be pasted into https://sankeymatic.com/build/)\n",
    "tradeoff1_text_responses = tradeoff_responses['rank1:topleft-medium,left-far,bottomleft-close'].replace({1:'topleft-medium',2:'left-far',3:'bottomleft-close'})\n",
    "tradeoff2_text_responses = tradeoff_responses['rank1:topleft-far,left-close,bottomleft-medium'].replace({1:'topleft-far',2:'left-close',3:'bottomleft-medium'})\n",
    "\n",
    "sankey_counts = pd.concat([tradeoff1_text_responses,tradeoff2_text_responses],axis=1).value_counts()\n",
    "\n",
    "for (src,dest) in sankey_counts.index:\n",
    "    print('{0}\\t[{1}]\\t{2}'.format(src,sankey_counts[(src,dest)],dest))"
   ]
  },
  {
   "cell_type": "markdown",
   "metadata": {},
   "source": [
    "## Part III \n",
    "\n",
    "### Design\n",
    "\n",
    "In Part III, we wanted to investigate whether context effects are observed when people choose between equally preferred options. Context effects occur when adding a third option to a choice set causes a violation of expected utility. Three context effects are prominent in the literature, including similarity, attraction, and compromise. The similarity effect is produced by adding a competing alternative that is similar to the choice set, while the attraction effect can be observed when adding a dominated alternative (i.e., one that is less preferred to all other alternatives in the choice set). Finally, the compromise effect is produced by adding an alternative that is less extreme in some dimension, compared to the other choices. These effects have been observed across many paradigms, but to our knowledge, they have not been explored in a rich visual environment such as map displays. To test for these effects, we chose questions that should produce contextual effects if they are present.\n",
    "\n",
    "### Results\n",
    "\n",
    "We again tested for statistical differences in people's responses on the different map backgrounds and found none. We combined the responses, resulting in 1168 total responses in Part III (4 per participant).\n"
   ]
  },
  {
   "cell_type": "code",
   "execution_count": 31,
   "metadata": {},
   "outputs": [
    {
     "name": "stdout",
     "output_type": "stream",
     "text": [
      "No statistical differences found\n"
     ]
    }
   ],
   "source": [
    "# Part III Analysis\n",
    "\n",
    "# Check for statistical difference between map groups\n",
    "maps = ['radial1','radial2','grid1','grid2']\n",
    "found = False\n",
    "\n",
    "# calculate p values for every combination of map and rank\n",
    "for m1 in maps:\n",
    "    for m2 in maps:\n",
    "        maptype1_vals = []\n",
    "        maptype2_vals = []\n",
    "\n",
    "        if m1 != m2:\n",
    "            maptype1_responses = part03_attentive.filter(like='{0}:{1}:'.format(r,m1))\n",
    "            maptype2_responses = part03_attentive.filter(like='{0}:{1}:'.format(r,m2))\n",
    "\n",
    "            for maptype1_col in maptype1_responses.columns:\n",
    "                col_parts = maptype1_col.split(':')\n",
    "                maptype2_col = '{0}:{1}:{2}'.format(col_parts[0],m2,col_parts[2])\n",
    "\n",
    "                # concatenate values\n",
    "                maptype1_vals = maptype1_vals + list(maptype1_responses[maptype1_col].values)\n",
    "                maptype2_vals = maptype2_vals + list(maptype2_responses[maptype2_col].values)\n",
    "\n",
    "            pval = ttest_ind(maptype1_vals,maptype2_vals)[1]\n",
    "\n",
    "            if pval <= 0.005:\n",
    "                print('{0}:{1} vs {0}:{2} - Statistical difference found (p={3})'.format(r,m1,m2,pval))\n",
    "                found = True\n",
    "\n",
    "if not found:\n",
    "    print('No statistical differences found')    \n",
    "\n"
   ]
  },
  {
   "cell_type": "code",
   "execution_count": 34,
   "metadata": {},
   "outputs": [
    {
     "name": "stdout",
     "output_type": "stream",
     "text": [
      "Combined radial and grid groups results in 1168 total responses (4 per participant)\n",
      "Statistical difference found between Part II and Part III responses (p=0.0)\n"
     ]
    }
   ],
   "source": [
    "# Combine map type groups (resulting in 4 responses per participant)\n",
    "\n",
    "maps = ['radial1','radial2','grid1','grid2']\n",
    "context_responses = pd.DataFrame()\n",
    "\n",
    "# rename columns to be the same for both sets\n",
    "for m in maps:\n",
    "    map_responses = part03_attentive.filter(like=m)\n",
    "\n",
    "    new_columns = {col:col.split(':')[1] for col in map_responses.columns}\n",
    "    \n",
    "    response_cols_renamed = map_responses.rename(columns = new_columns)\n",
    "\n",
    "    # we will need this information in a later step to identify correct choices\n",
    "    response_cols_renamed['map_id'] = m\n",
    "\n",
    "    # combine columns\n",
    "    context_responses = pd.concat([context_responses,response_cols_renamed])\n",
    "\n",
    "context_responses = context_responses.reset_index().rename(columns = {'index':'participant_id'})\n",
    "print('Combined radial and grid groups results in {0} total responses (4 per participant)'.format(\n",
    "    len(context_responses)))\n",
    "context_responses[context_responses['participant_id'] == 3]\n",
    "\n",
    "# Check for statistical difference between Part II and Part III questions that share the same tradeoffs\n",
    "r1_tradeoff_responses = tradeoff_responses.filter(like='rank1')\n",
    "context_tradeoff_responses = pd.DataFrame()\n",
    "\n",
    "# get matching responses from context effect questions\n",
    "for col in r1_tradeoff_responses.columns:\n",
    "    col_parts = col.split(':')\n",
    "    qtype = col_parts[1]\n",
    "\n",
    "    context_tradeoff_responses = pd.concat([context_tradeoff_responses,context_responses[qtype]],axis=1)\n",
    "\n",
    "# check for statistical differences\n",
    "tradeoff_vals = []\n",
    "context_vals = []\n",
    "\n",
    "for tradeoff_col in r1_tradeoff_responses.columns:\n",
    "    col_parts = tradeoff_col.split(':')\n",
    "    context_col = col_parts[1]\n",
    "\n",
    "    tradeoff_vals = tradeoff_vals + list(r1_tradeoff_responses[tradeoff_col].values)\n",
    "    context_vals = context_vals + list(context_tradeoff_responses[context_col].values)\n",
    "        \n",
    "# Statistically difference between radial and grid?\n",
    "pval = ttest_ind(tradeoff_vals,context_vals)[1]\n",
    "\n",
    "if pval > 0.005:\n",
    "    print('No statistical difference found (p={0})'.format(pval))\n",
    "else:\n",
    "    print('Statistical difference found between Part II and Part III responses (p={0})'.format(pval))\n",
    "\n",
    "### Set up a dictionary to keep track of the question types for remaining code\n",
    "qtypes = {\n",
    "    'similarity1': 'left-medium,topright-far2,topleft-far3',\n",
    "    'similarity2': 'left-medium,topright-far2,right-close',\n",
    "    'attraction1': 'right-close,right-medium,bottomleft-far1',\n",
    "    'attraction2': 'right-close,bottomleft-far1,bottomleft-far2',\n",
    "    'compromise': 'right-close,bottomright-far,topright-far2',\n",
    "    'other1': 'topleft-medium,left-far,bottomleft-close',\n",
    "    'other2': 'topleft-far,left-close,bottomleft-medium',\n",
    "}\n"
   ]
  },
  {
   "cell_type": "markdown",
   "metadata": {},
   "source": [
    "### Part III Discussion (Comparison with Part II)\n",
    "Part III asked participants to choose the label position that best represented their boss's preferences. Eight of the questions replicated Label Set 1 and Label Set 2 from Part II, on four backgrounds. However, in this part of the survey, participants needed to respond using the boss's preferences, rather than their own. In all of these questions, there was a single correct answer. We compared the distributions of the responses from Part II and Part III and found that they were significantly different ($P < 0.005$). The figure below shows a comparison between each group's responses for each question. In Part II, we see that, while there was a clear majority in favor of one particular label position in each question, minority groups still preferred the less popular option in each case. However, in Part III, nearly all participants chose the option that correctly aligned with the boss's preferences. These results seem to indicate that the participants understood the instructions to choose maps using the boss's preferences in Part III."
   ]
  },
  {
   "cell_type": "code",
   "execution_count": 35,
   "metadata": {},
   "outputs": [
    {
     "data": {
      "text/plain": [
       "<matplotlib.legend.Legend at 0x24209b57dc0>"
      ]
     },
     "execution_count": 35,
     "metadata": {},
     "output_type": "execute_result"
    },
    {
     "data": {
      "image/png": "[encoded data removed]",
      "text/plain": [
       "<Figure size 360x288 with 1 Axes>"
      ]
     },
     "metadata": {
      "needs_background": "light"
     },
     "output_type": "display_data"
    }
   ],
   "source": [
    "# Generate graphic of comparing tradeoff questions to context questions\n",
    "\n",
    "context_other1 = context_tradeoff_responses[qtypes['other1']].replace(\n",
    "        {4: 'choice 1',5:'choice 2',6:'choice 3'}).value_counts()\n",
    "\n",
    "context_other2 = context_tradeoff_responses[qtypes['other2']].replace(\n",
    "        {4: 'choice 1',5:'choice 2',6:'choice 3'}).value_counts()\n",
    "\n",
    "context_other_counts = pd.concat([context_other1,context_other2],axis=1).transpose().rename(\n",
    "    index={qtypes['other1']:'other1',\n",
    "           qtypes['other2']:'other2'})\n",
    "\n",
    "tradeoff1 = tradeoff_responses['rank1:{0}'.format(qtypes['other1'])].replace(\n",
    "        {1: 'choice 1',2:'choice 2',3:'choice 3'}).value_counts()\n",
    "tradeoff2 = tradeoff_responses['rank1:{0}'.format(qtypes['other2'])].replace(\n",
    "        {1: 'choice 1',2:'choice 2',3:'choice 3'}).value_counts()\n",
    "\n",
    "tradeoff_other_counts = pd.concat([tradeoff1,tradeoff2],axis=1).transpose().rename(\n",
    "        index={'rank1:{0}'.format(qtypes['other1']):'other1',\n",
    "               'rank1:{0}'.format(qtypes['other2']):'other2'})\n",
    "\n",
    "ax = context_other_counts.plot.bar(position=0.15, cmap='winter', width=0.5, figsize=(5,4))\n",
    "\n",
    "tradeoff_other_counts.plot.bar(ax = ax, position=0.9, cmap='copper', width=0.5)\n",
    "\n",
    "context_other_counts['choice 1'].plot(\n",
    "        ax = ax, ms=30, marker='_', color='red', markeredgecolor='red', markeredgewidth=3, \n",
    "        linewidth=0, label = 'Correct Choice (Part III)', rot=90)\n",
    "\n",
    "ax.axhline(y=int(len(context_tradeoff_responses) / 3), linestyle='--', color='black', linewidth=0.5, label = 'baseline')\n",
    "ax.legend(bbox_to_anchor =(1.25, -0.2), ncol=3)"
   ]
  },
  {
   "cell_type": "markdown",
   "metadata": {},
   "source": [
    "### Part III Discussion (Context Effect Questions)\n",
    "\n",
    "The remaining questions in Part III of the survey were included to see if similarity, attraction, and compromise effects occur in the rich visual environment of a map. Recall that given the boss's preferences, the three label positions compared in each question either had equal preference values (to test for the similarity and compromise effect), or near equal preference values (to test for the attraction effect). For the questions that were equal (similarity and compromise), we would expect that if the participants made the choice randomly among positions of equal value, each choice would receive 33.3\\% of the responses. In the case of questions testing the attraction effect, where one option is slightly less preferred by the boss, we would expect the less preferred option to get the least number of responses and the remaining responses to be evenly distributed among the other two. \n",
    "\n",
    "We can see from the figure below that participants did not randomly choose label positions among those with equal preference values. Although the context effect option is the most popular in the first similarity set (57.0\\%), it is not very popular in the second similarity set (23.1\\%). Instead, it seems that people chose the (direct left, medium) aligned option by a large majority in both of these questions (similarity1: 57.0\\%, similarity2: 56.7\\%). In the attraction questions, the dominated option is chosen much less often than the other two, and the responses are nearly equally distributed between the remaining two options (attraction1 - choice1: 43.2\\%, choice3: 46.0\\%, attraction2 - choice 1: 45.4\\%, choice 2: 49.6\\%), with the (bottom left, far1) position being slightly preferred in both cases.  Compromise questions may show a weak effect, with the contextual choice slightly preferred (47.3\\%) over the other two options. \n",
    "\n",
    "Rather than exhibiting context effects in these questions, the participants seem to be choosing a preferred option given some other internal method. The participants were instructed to break ties by choosing the position they thought was best, so their choices may have been moderated by their own preferences, as the boss would have been indifferent between the label positions. Many of the existing studies in the literature use values that are objective (i.e., decisions being based on the strength of eyewitness testimony, or by choosing the area of a rectangle, such that they may not evoke strong personal preferences or be open to interpretation. "
   ]
  },
  {
   "cell_type": "code",
   "execution_count": 36,
   "metadata": {},
   "outputs": [
    {
     "data": {
      "text/plain": [
       "<matplotlib.legend.Legend at 0x2420bc62d90>"
      ]
     },
     "execution_count": 36,
     "metadata": {},
     "output_type": "execute_result"
    },
    {
     "data": {
      "image/png": "[encoded data removed]",
      "text/plain": [
       "<Figure size 360x288 with 1 Axes>"
      ]
     },
     "metadata": {
      "needs_background": "light"
     },
     "output_type": "display_data"
    }
   ],
   "source": [
    "# Count how many people chose the context choice option for each map and context choice combination\n",
    "\n",
    "maps = ['radial1','radial2','grid1','grid2']\n",
    "\n",
    "similarity1_correct = 0\n",
    "similarity2_correct = 0\n",
    "attraction1_correct = 0\n",
    "attraction2_correct = 0\n",
    "compromise_correct = 0\n",
    "\n",
    "for m in maps:\n",
    "    similarity1_correct += len(context_responses[(context_responses['map_id'] == m) & (context_responses[qtypes['similarity1']] == 4)])\n",
    "    similarity2_correct += len(context_responses[(context_responses['map_id'] == m) & (context_responses[qtypes['similarity2']] == 5)])\n",
    "    attraction1_correct += len(context_responses[(context_responses['map_id'] == m) & (context_responses[qtypes['attraction1']] == 4)])\n",
    "    attraction2_correct += len(context_responses[(context_responses['map_id'] == m) & (context_responses[qtypes['attraction2']] == 5)])\n",
    "    compromise_correct += len(context_responses[(context_responses['map_id'] == m) & (context_responses[qtypes['compromise']] == 5)])\n",
    "\n",
    "correct_counts = pd.DataFrame([similarity1_correct, similarity2_correct, attraction1_correct, attraction2_correct, compromise_correct],columns=['Context Effect Choice'])\n",
    "\n",
    "# Generate graphic of context effect question choices\n",
    "\n",
    "context_similarity1 = context_responses[qtypes['similarity1']].replace(\n",
    "        {4: 'choice 1',5:'choice 2',6:'choice 3'}).value_counts()\n",
    "\n",
    "context_similarity2 = context_responses[qtypes['similarity2']].replace(\n",
    "        {4: 'choice 1',5:'choice 2',6:'choice 3'}).value_counts()\n",
    "\n",
    "context_attraction1 = context_responses[qtypes['attraction1']].replace(\n",
    "        {4: 'choice 1',5:'choice 2',6:'choice 3'}).value_counts()\n",
    "\n",
    "context_attraction2 = context_responses[qtypes['attraction2']].replace(\n",
    "        {4: 'choice 1',5:'choice 2',6:'choice 3'}).value_counts()\n",
    "\n",
    "context_compromise = context_responses[qtypes['compromise']].replace(\n",
    "        {4: 'choice 1',5:'choice 2',6:'choice 3'}).value_counts()\n",
    "\n",
    "context_counts = pd.concat(\n",
    "        [context_similarity1, context_similarity2, context_attraction1, context_attraction2, context_compromise],\n",
    "        axis=1).transpose().rename(\n",
    "                index={qtypes['similarity1']:'similarity1',\n",
    "                        qtypes['similarity2']:'similarity2',\n",
    "                        qtypes['attraction1']:'attraction1',\n",
    "                        qtypes['attraction2']:'attraction2',\n",
    "                        qtypes['compromise']:'compromise'})\n",
    "\n",
    "# make sure the columns are in the right order for the graph\n",
    "context_counts = context_counts[['choice 1','choice 2', 'choice 3']]\n",
    "\n",
    "ax = context_counts.plot.bar(cmap='winter', width=0.5, figsize=(5,4))\n",
    "ax.axhline(y=int(len(context_responses) / 3),linestyle='--', color='black',linewidth=0.5, label = 'baseline')\n",
    "correct_counts.plot(ax = ax, ms=25, marker='_', color='red', markeredgecolor='red', markeredgewidth=3, linewidth=0, rot=90)\n",
    "ax.legend(bbox_to_anchor =(1.15, -0.34),ncol=3)"
   ]
  },
  {
   "cell_type": "markdown",
   "metadata": {},
   "source": [
    "Author: Jaelle Scheuerman\n",
    "\n",
    "*Distribution Statement A.  Approved for public release.  Distribution is unlimited*"
   ]
  }
 ],
 "metadata": {
  "kernelspec": {
   "display_name": "Python 3.9.5 ('base')",
   "language": "python",
   "name": "python3"
  },
  "language_info": {
   "codemirror_mode": {
    "name": "ipython",
    "version": 3
   },
   "file_extension": ".py",
   "mimetype": "text/x-python",
   "name": "python",
   "nbconvert_exporter": "python",
   "pygments_lexer": "ipython3",
   "version": "3.9.5"
  },
  "orig_nbformat": 4,
  "vscode": {
   "interpreter": {
    "hash": "6590233065a6994f7bc143535b05b19a1ffaced370de6078af32b8abe9a8b09f"
   }
  }
 },
 "nbformat": 4,
 "nbformat_minor": 2
}
